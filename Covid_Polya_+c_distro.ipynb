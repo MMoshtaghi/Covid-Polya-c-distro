{
  "cells": [
    {
      "cell_type": "markdown",
      "metadata": {
        "id": "view-in-github",
        "colab_type": "text"
      },
      "source": [
        "<a href=\"https://colab.research.google.com/github/MMoshtaghi/Covid-Polya-c-distro/blob/main/Covid_Polya_%2Bc_distro.ipynb\" target=\"_parent\"><img src=\"https://colab.research.google.com/assets/colab-badge.svg\" alt=\"Open In Colab\"/></a>"
      ]
    },
    {
      "cell_type": "code",
      "execution_count": 1,
      "metadata": {
        "id": "fapwJ-OmsPV8"
      },
      "outputs": [],
      "source": [
        "## For data\n",
        "import pandas as pd\n",
        "import numpy as np\n",
        "## For plotting\n",
        "import matplotlib.pyplot as plt\n",
        "## For parametric fitting\n",
        "from scipy import optimize"
      ]
    },
    {
      "cell_type": "code",
      "execution_count": 2,
      "metadata": {
        "id": "wvMQINN8sPV8",
        "colab": {
          "base_uri": "https://localhost:8080/",
          "height": 299
        },
        "outputId": "52e28aca-d235-44f7-bd6d-d328317ca364"
      },
      "outputs": [
        {
          "output_type": "execute_result",
          "data": {
            "text/html": [
              "\n",
              "  <div id=\"df-6766c332-b70f-4b1b-9c8a-f267857aa56a\">\n",
              "    <div class=\"colab-df-container\">\n",
              "      <div>\n",
              "<style scoped>\n",
              "    .dataframe tbody tr th:only-of-type {\n",
              "        vertical-align: middle;\n",
              "    }\n",
              "\n",
              "    .dataframe tbody tr th {\n",
              "        vertical-align: top;\n",
              "    }\n",
              "\n",
              "    .dataframe thead th {\n",
              "        text-align: right;\n",
              "    }\n",
              "</style>\n",
              "<table border=\"1\" class=\"dataframe\">\n",
              "  <thead>\n",
              "    <tr style=\"text-align: right;\">\n",
              "      <th></th>\n",
              "      <th>Province/State</th>\n",
              "      <th>Country/Region</th>\n",
              "      <th>Lat</th>\n",
              "      <th>Long</th>\n",
              "      <th>1/22/20</th>\n",
              "      <th>1/23/20</th>\n",
              "      <th>1/24/20</th>\n",
              "      <th>1/25/20</th>\n",
              "      <th>1/26/20</th>\n",
              "      <th>1/27/20</th>\n",
              "      <th>1/28/20</th>\n",
              "      <th>1/29/20</th>\n",
              "      <th>1/30/20</th>\n",
              "      <th>1/31/20</th>\n",
              "      <th>2/1/20</th>\n",
              "      <th>2/2/20</th>\n",
              "      <th>2/3/20</th>\n",
              "      <th>2/4/20</th>\n",
              "      <th>2/5/20</th>\n",
              "      <th>2/6/20</th>\n",
              "      <th>2/7/20</th>\n",
              "      <th>2/8/20</th>\n",
              "      <th>2/9/20</th>\n",
              "      <th>2/10/20</th>\n",
              "      <th>2/11/20</th>\n",
              "      <th>2/12/20</th>\n",
              "      <th>2/13/20</th>\n",
              "      <th>2/14/20</th>\n",
              "      <th>2/15/20</th>\n",
              "      <th>2/16/20</th>\n",
              "      <th>2/17/20</th>\n",
              "      <th>2/18/20</th>\n",
              "      <th>2/19/20</th>\n",
              "      <th>2/20/20</th>\n",
              "      <th>2/21/20</th>\n",
              "      <th>2/22/20</th>\n",
              "      <th>2/23/20</th>\n",
              "      <th>2/24/20</th>\n",
              "      <th>2/25/20</th>\n",
              "      <th>2/26/20</th>\n",
              "      <th>...</th>\n",
              "      <th>10/17/21</th>\n",
              "      <th>10/18/21</th>\n",
              "      <th>10/19/21</th>\n",
              "      <th>10/20/21</th>\n",
              "      <th>10/21/21</th>\n",
              "      <th>10/22/21</th>\n",
              "      <th>10/23/21</th>\n",
              "      <th>10/24/21</th>\n",
              "      <th>10/25/21</th>\n",
              "      <th>10/26/21</th>\n",
              "      <th>10/27/21</th>\n",
              "      <th>10/28/21</th>\n",
              "      <th>10/29/21</th>\n",
              "      <th>10/30/21</th>\n",
              "      <th>10/31/21</th>\n",
              "      <th>11/1/21</th>\n",
              "      <th>11/2/21</th>\n",
              "      <th>11/3/21</th>\n",
              "      <th>11/4/21</th>\n",
              "      <th>11/5/21</th>\n",
              "      <th>11/6/21</th>\n",
              "      <th>11/7/21</th>\n",
              "      <th>11/8/21</th>\n",
              "      <th>11/9/21</th>\n",
              "      <th>11/10/21</th>\n",
              "      <th>11/11/21</th>\n",
              "      <th>11/12/21</th>\n",
              "      <th>11/13/21</th>\n",
              "      <th>11/14/21</th>\n",
              "      <th>11/15/21</th>\n",
              "      <th>11/16/21</th>\n",
              "      <th>11/17/21</th>\n",
              "      <th>11/18/21</th>\n",
              "      <th>11/19/21</th>\n",
              "      <th>11/20/21</th>\n",
              "      <th>11/21/21</th>\n",
              "      <th>11/22/21</th>\n",
              "      <th>11/23/21</th>\n",
              "      <th>11/24/21</th>\n",
              "      <th>11/25/21</th>\n",
              "    </tr>\n",
              "  </thead>\n",
              "  <tbody>\n",
              "    <tr>\n",
              "      <th>0</th>\n",
              "      <td>NaN</td>\n",
              "      <td>Afghanistan</td>\n",
              "      <td>33.93911</td>\n",
              "      <td>67.709953</td>\n",
              "      <td>0</td>\n",
              "      <td>0</td>\n",
              "      <td>0</td>\n",
              "      <td>0</td>\n",
              "      <td>0</td>\n",
              "      <td>0</td>\n",
              "      <td>0</td>\n",
              "      <td>0</td>\n",
              "      <td>0</td>\n",
              "      <td>0</td>\n",
              "      <td>0</td>\n",
              "      <td>0</td>\n",
              "      <td>0</td>\n",
              "      <td>0</td>\n",
              "      <td>0</td>\n",
              "      <td>0</td>\n",
              "      <td>0</td>\n",
              "      <td>0</td>\n",
              "      <td>0</td>\n",
              "      <td>0</td>\n",
              "      <td>0</td>\n",
              "      <td>0</td>\n",
              "      <td>0</td>\n",
              "      <td>0</td>\n",
              "      <td>0</td>\n",
              "      <td>0</td>\n",
              "      <td>0</td>\n",
              "      <td>0</td>\n",
              "      <td>0</td>\n",
              "      <td>0</td>\n",
              "      <td>0</td>\n",
              "      <td>0</td>\n",
              "      <td>0</td>\n",
              "      <td>5</td>\n",
              "      <td>5</td>\n",
              "      <td>5</td>\n",
              "      <td>...</td>\n",
              "      <td>155764</td>\n",
              "      <td>155776</td>\n",
              "      <td>155801</td>\n",
              "      <td>155859</td>\n",
              "      <td>155891</td>\n",
              "      <td>155931</td>\n",
              "      <td>155940</td>\n",
              "      <td>155944</td>\n",
              "      <td>156040</td>\n",
              "      <td>156071</td>\n",
              "      <td>156124</td>\n",
              "      <td>156166</td>\n",
              "      <td>156196</td>\n",
              "      <td>156210</td>\n",
              "      <td>156250</td>\n",
              "      <td>156284</td>\n",
              "      <td>156307</td>\n",
              "      <td>156323</td>\n",
              "      <td>156363</td>\n",
              "      <td>156392</td>\n",
              "      <td>156397</td>\n",
              "      <td>156397</td>\n",
              "      <td>156397</td>\n",
              "      <td>156397</td>\n",
              "      <td>156414</td>\n",
              "      <td>156456</td>\n",
              "      <td>156487</td>\n",
              "      <td>156510</td>\n",
              "      <td>156552</td>\n",
              "      <td>156610</td>\n",
              "      <td>156649</td>\n",
              "      <td>156739</td>\n",
              "      <td>156739</td>\n",
              "      <td>156812</td>\n",
              "      <td>156864</td>\n",
              "      <td>156896</td>\n",
              "      <td>156911</td>\n",
              "      <td>157015</td>\n",
              "      <td>157032</td>\n",
              "      <td>157144</td>\n",
              "    </tr>\n",
              "    <tr>\n",
              "      <th>1</th>\n",
              "      <td>NaN</td>\n",
              "      <td>Albania</td>\n",
              "      <td>41.15330</td>\n",
              "      <td>20.168300</td>\n",
              "      <td>0</td>\n",
              "      <td>0</td>\n",
              "      <td>0</td>\n",
              "      <td>0</td>\n",
              "      <td>0</td>\n",
              "      <td>0</td>\n",
              "      <td>0</td>\n",
              "      <td>0</td>\n",
              "      <td>0</td>\n",
              "      <td>0</td>\n",
              "      <td>0</td>\n",
              "      <td>0</td>\n",
              "      <td>0</td>\n",
              "      <td>0</td>\n",
              "      <td>0</td>\n",
              "      <td>0</td>\n",
              "      <td>0</td>\n",
              "      <td>0</td>\n",
              "      <td>0</td>\n",
              "      <td>0</td>\n",
              "      <td>0</td>\n",
              "      <td>0</td>\n",
              "      <td>0</td>\n",
              "      <td>0</td>\n",
              "      <td>0</td>\n",
              "      <td>0</td>\n",
              "      <td>0</td>\n",
              "      <td>0</td>\n",
              "      <td>0</td>\n",
              "      <td>0</td>\n",
              "      <td>0</td>\n",
              "      <td>0</td>\n",
              "      <td>0</td>\n",
              "      <td>0</td>\n",
              "      <td>0</td>\n",
              "      <td>0</td>\n",
              "      <td>...</td>\n",
              "      <td>177971</td>\n",
              "      <td>178188</td>\n",
              "      <td>178804</td>\n",
              "      <td>179463</td>\n",
              "      <td>180029</td>\n",
              "      <td>180623</td>\n",
              "      <td>181252</td>\n",
              "      <td>181696</td>\n",
              "      <td>181960</td>\n",
              "      <td>182610</td>\n",
              "      <td>183282</td>\n",
              "      <td>183873</td>\n",
              "      <td>184340</td>\n",
              "      <td>184887</td>\n",
              "      <td>185300</td>\n",
              "      <td>185497</td>\n",
              "      <td>186222</td>\n",
              "      <td>186793</td>\n",
              "      <td>187363</td>\n",
              "      <td>187994</td>\n",
              "      <td>187994</td>\n",
              "      <td>189125</td>\n",
              "      <td>189355</td>\n",
              "      <td>190125</td>\n",
              "      <td>190815</td>\n",
              "      <td>191440</td>\n",
              "      <td>192013</td>\n",
              "      <td>192600</td>\n",
              "      <td>193075</td>\n",
              "      <td>193269</td>\n",
              "      <td>193856</td>\n",
              "      <td>194472</td>\n",
              "      <td>195021</td>\n",
              "      <td>195523</td>\n",
              "      <td>195988</td>\n",
              "      <td>195988</td>\n",
              "      <td>196611</td>\n",
              "      <td>197167</td>\n",
              "      <td>197776</td>\n",
              "      <td>198292</td>\n",
              "    </tr>\n",
              "    <tr>\n",
              "      <th>2</th>\n",
              "      <td>NaN</td>\n",
              "      <td>Algeria</td>\n",
              "      <td>28.03390</td>\n",
              "      <td>1.659600</td>\n",
              "      <td>0</td>\n",
              "      <td>0</td>\n",
              "      <td>0</td>\n",
              "      <td>0</td>\n",
              "      <td>0</td>\n",
              "      <td>0</td>\n",
              "      <td>0</td>\n",
              "      <td>0</td>\n",
              "      <td>0</td>\n",
              "      <td>0</td>\n",
              "      <td>0</td>\n",
              "      <td>0</td>\n",
              "      <td>0</td>\n",
              "      <td>0</td>\n",
              "      <td>0</td>\n",
              "      <td>0</td>\n",
              "      <td>0</td>\n",
              "      <td>0</td>\n",
              "      <td>0</td>\n",
              "      <td>0</td>\n",
              "      <td>0</td>\n",
              "      <td>0</td>\n",
              "      <td>0</td>\n",
              "      <td>0</td>\n",
              "      <td>0</td>\n",
              "      <td>0</td>\n",
              "      <td>0</td>\n",
              "      <td>0</td>\n",
              "      <td>0</td>\n",
              "      <td>0</td>\n",
              "      <td>0</td>\n",
              "      <td>0</td>\n",
              "      <td>0</td>\n",
              "      <td>0</td>\n",
              "      <td>1</td>\n",
              "      <td>1</td>\n",
              "      <td>...</td>\n",
              "      <td>205286</td>\n",
              "      <td>205364</td>\n",
              "      <td>205453</td>\n",
              "      <td>205529</td>\n",
              "      <td>205599</td>\n",
              "      <td>205683</td>\n",
              "      <td>205750</td>\n",
              "      <td>205822</td>\n",
              "      <td>205903</td>\n",
              "      <td>205990</td>\n",
              "      <td>206069</td>\n",
              "      <td>206160</td>\n",
              "      <td>206270</td>\n",
              "      <td>206358</td>\n",
              "      <td>206452</td>\n",
              "      <td>206566</td>\n",
              "      <td>206649</td>\n",
              "      <td>206754</td>\n",
              "      <td>206878</td>\n",
              "      <td>206995</td>\n",
              "      <td>207079</td>\n",
              "      <td>207156</td>\n",
              "      <td>207254</td>\n",
              "      <td>207385</td>\n",
              "      <td>207509</td>\n",
              "      <td>207624</td>\n",
              "      <td>207764</td>\n",
              "      <td>207873</td>\n",
              "      <td>207970</td>\n",
              "      <td>208104</td>\n",
              "      <td>208245</td>\n",
              "      <td>208380</td>\n",
              "      <td>208532</td>\n",
              "      <td>208695</td>\n",
              "      <td>208839</td>\n",
              "      <td>208952</td>\n",
              "      <td>209111</td>\n",
              "      <td>209283</td>\n",
              "      <td>209463</td>\n",
              "      <td>209624</td>\n",
              "    </tr>\n",
              "    <tr>\n",
              "      <th>3</th>\n",
              "      <td>NaN</td>\n",
              "      <td>Andorra</td>\n",
              "      <td>42.50630</td>\n",
              "      <td>1.521800</td>\n",
              "      <td>0</td>\n",
              "      <td>0</td>\n",
              "      <td>0</td>\n",
              "      <td>0</td>\n",
              "      <td>0</td>\n",
              "      <td>0</td>\n",
              "      <td>0</td>\n",
              "      <td>0</td>\n",
              "      <td>0</td>\n",
              "      <td>0</td>\n",
              "      <td>0</td>\n",
              "      <td>0</td>\n",
              "      <td>0</td>\n",
              "      <td>0</td>\n",
              "      <td>0</td>\n",
              "      <td>0</td>\n",
              "      <td>0</td>\n",
              "      <td>0</td>\n",
              "      <td>0</td>\n",
              "      <td>0</td>\n",
              "      <td>0</td>\n",
              "      <td>0</td>\n",
              "      <td>0</td>\n",
              "      <td>0</td>\n",
              "      <td>0</td>\n",
              "      <td>0</td>\n",
              "      <td>0</td>\n",
              "      <td>0</td>\n",
              "      <td>0</td>\n",
              "      <td>0</td>\n",
              "      <td>0</td>\n",
              "      <td>0</td>\n",
              "      <td>0</td>\n",
              "      <td>0</td>\n",
              "      <td>0</td>\n",
              "      <td>0</td>\n",
              "      <td>...</td>\n",
              "      <td>15338</td>\n",
              "      <td>15367</td>\n",
              "      <td>15369</td>\n",
              "      <td>15382</td>\n",
              "      <td>15382</td>\n",
              "      <td>15404</td>\n",
              "      <td>15404</td>\n",
              "      <td>15404</td>\n",
              "      <td>15425</td>\n",
              "      <td>15425</td>\n",
              "      <td>15462</td>\n",
              "      <td>15505</td>\n",
              "      <td>15516</td>\n",
              "      <td>15516</td>\n",
              "      <td>15516</td>\n",
              "      <td>15516</td>\n",
              "      <td>15516</td>\n",
              "      <td>15572</td>\n",
              "      <td>15618</td>\n",
              "      <td>15618</td>\n",
              "      <td>15618</td>\n",
              "      <td>15618</td>\n",
              "      <td>15705</td>\n",
              "      <td>15717</td>\n",
              "      <td>15744</td>\n",
              "      <td>15744</td>\n",
              "      <td>15819</td>\n",
              "      <td>15819</td>\n",
              "      <td>15819</td>\n",
              "      <td>15907</td>\n",
              "      <td>15929</td>\n",
              "      <td>15972</td>\n",
              "      <td>16035</td>\n",
              "      <td>16086</td>\n",
              "      <td>16086</td>\n",
              "      <td>16086</td>\n",
              "      <td>16299</td>\n",
              "      <td>16342</td>\n",
              "      <td>16426</td>\n",
              "      <td>16566</td>\n",
              "    </tr>\n",
              "    <tr>\n",
              "      <th>4</th>\n",
              "      <td>NaN</td>\n",
              "      <td>Angola</td>\n",
              "      <td>-11.20270</td>\n",
              "      <td>17.873900</td>\n",
              "      <td>0</td>\n",
              "      <td>0</td>\n",
              "      <td>0</td>\n",
              "      <td>0</td>\n",
              "      <td>0</td>\n",
              "      <td>0</td>\n",
              "      <td>0</td>\n",
              "      <td>0</td>\n",
              "      <td>0</td>\n",
              "      <td>0</td>\n",
              "      <td>0</td>\n",
              "      <td>0</td>\n",
              "      <td>0</td>\n",
              "      <td>0</td>\n",
              "      <td>0</td>\n",
              "      <td>0</td>\n",
              "      <td>0</td>\n",
              "      <td>0</td>\n",
              "      <td>0</td>\n",
              "      <td>0</td>\n",
              "      <td>0</td>\n",
              "      <td>0</td>\n",
              "      <td>0</td>\n",
              "      <td>0</td>\n",
              "      <td>0</td>\n",
              "      <td>0</td>\n",
              "      <td>0</td>\n",
              "      <td>0</td>\n",
              "      <td>0</td>\n",
              "      <td>0</td>\n",
              "      <td>0</td>\n",
              "      <td>0</td>\n",
              "      <td>0</td>\n",
              "      <td>0</td>\n",
              "      <td>0</td>\n",
              "      <td>0</td>\n",
              "      <td>...</td>\n",
              "      <td>62842</td>\n",
              "      <td>63012</td>\n",
              "      <td>63197</td>\n",
              "      <td>63340</td>\n",
              "      <td>63567</td>\n",
              "      <td>63691</td>\n",
              "      <td>63775</td>\n",
              "      <td>63861</td>\n",
              "      <td>63930</td>\n",
              "      <td>64033</td>\n",
              "      <td>64126</td>\n",
              "      <td>64226</td>\n",
              "      <td>64301</td>\n",
              "      <td>64374</td>\n",
              "      <td>64433</td>\n",
              "      <td>64458</td>\n",
              "      <td>64487</td>\n",
              "      <td>64533</td>\n",
              "      <td>64583</td>\n",
              "      <td>64612</td>\n",
              "      <td>64654</td>\n",
              "      <td>64674</td>\n",
              "      <td>64724</td>\n",
              "      <td>64762</td>\n",
              "      <td>64815</td>\n",
              "      <td>64857</td>\n",
              "      <td>64875</td>\n",
              "      <td>64899</td>\n",
              "      <td>64913</td>\n",
              "      <td>64913</td>\n",
              "      <td>64940</td>\n",
              "      <td>64968</td>\n",
              "      <td>64985</td>\n",
              "      <td>64997</td>\n",
              "      <td>65011</td>\n",
              "      <td>65024</td>\n",
              "      <td>65033</td>\n",
              "      <td>65061</td>\n",
              "      <td>65080</td>\n",
              "      <td>65105</td>\n",
              "    </tr>\n",
              "  </tbody>\n",
              "</table>\n",
              "<p>5 rows × 678 columns</p>\n",
              "</div>\n",
              "      <button class=\"colab-df-convert\" onclick=\"convertToInteractive('df-6766c332-b70f-4b1b-9c8a-f267857aa56a')\"\n",
              "              title=\"Convert this dataframe to an interactive table.\"\n",
              "              style=\"display:none;\">\n",
              "        \n",
              "  <svg xmlns=\"http://www.w3.org/2000/svg\" height=\"24px\"viewBox=\"0 0 24 24\"\n",
              "       width=\"24px\">\n",
              "    <path d=\"M0 0h24v24H0V0z\" fill=\"none\"/>\n",
              "    <path d=\"M18.56 5.44l.94 2.06.94-2.06 2.06-.94-2.06-.94-.94-2.06-.94 2.06-2.06.94zm-11 1L8.5 8.5l.94-2.06 2.06-.94-2.06-.94L8.5 2.5l-.94 2.06-2.06.94zm10 10l.94 2.06.94-2.06 2.06-.94-2.06-.94-.94-2.06-.94 2.06-2.06.94z\"/><path d=\"M17.41 7.96l-1.37-1.37c-.4-.4-.92-.59-1.43-.59-.52 0-1.04.2-1.43.59L10.3 9.45l-7.72 7.72c-.78.78-.78 2.05 0 2.83L4 21.41c.39.39.9.59 1.41.59.51 0 1.02-.2 1.41-.59l7.78-7.78 2.81-2.81c.8-.78.8-2.07 0-2.86zM5.41 20L4 18.59l7.72-7.72 1.47 1.35L5.41 20z\"/>\n",
              "  </svg>\n",
              "      </button>\n",
              "      \n",
              "  <style>\n",
              "    .colab-df-container {\n",
              "      display:flex;\n",
              "      flex-wrap:wrap;\n",
              "      gap: 12px;\n",
              "    }\n",
              "\n",
              "    .colab-df-convert {\n",
              "      background-color: #E8F0FE;\n",
              "      border: none;\n",
              "      border-radius: 50%;\n",
              "      cursor: pointer;\n",
              "      display: none;\n",
              "      fill: #1967D2;\n",
              "      height: 32px;\n",
              "      padding: 0 0 0 0;\n",
              "      width: 32px;\n",
              "    }\n",
              "\n",
              "    .colab-df-convert:hover {\n",
              "      background-color: #E2EBFA;\n",
              "      box-shadow: 0px 1px 2px rgba(60, 64, 67, 0.3), 0px 1px 3px 1px rgba(60, 64, 67, 0.15);\n",
              "      fill: #174EA6;\n",
              "    }\n",
              "\n",
              "    [theme=dark] .colab-df-convert {\n",
              "      background-color: #3B4455;\n",
              "      fill: #D2E3FC;\n",
              "    }\n",
              "\n",
              "    [theme=dark] .colab-df-convert:hover {\n",
              "      background-color: #434B5C;\n",
              "      box-shadow: 0px 1px 3px 1px rgba(0, 0, 0, 0.15);\n",
              "      filter: drop-shadow(0px 1px 2px rgba(0, 0, 0, 0.3));\n",
              "      fill: #FFFFFF;\n",
              "    }\n",
              "  </style>\n",
              "\n",
              "      <script>\n",
              "        const buttonEl =\n",
              "          document.querySelector('#df-6766c332-b70f-4b1b-9c8a-f267857aa56a button.colab-df-convert');\n",
              "        buttonEl.style.display =\n",
              "          google.colab.kernel.accessAllowed ? 'block' : 'none';\n",
              "\n",
              "        async function convertToInteractive(key) {\n",
              "          const element = document.querySelector('#df-6766c332-b70f-4b1b-9c8a-f267857aa56a');\n",
              "          const dataTable =\n",
              "            await google.colab.kernel.invokeFunction('convertToInteractive',\n",
              "                                                     [key], {});\n",
              "          if (!dataTable) return;\n",
              "\n",
              "          const docLinkHtml = 'Like what you see? Visit the ' +\n",
              "            '<a target=\"_blank\" href=https://colab.research.google.com/notebooks/data_table.ipynb>data table notebook</a>'\n",
              "            + ' to learn more about interactive tables.';\n",
              "          element.innerHTML = '';\n",
              "          dataTable['output_type'] = 'display_data';\n",
              "          await google.colab.output.renderOutput(dataTable, element);\n",
              "          const docLink = document.createElement('div');\n",
              "          docLink.innerHTML = docLinkHtml;\n",
              "          element.appendChild(docLink);\n",
              "        }\n",
              "      </script>\n",
              "    </div>\n",
              "  </div>\n",
              "  "
            ],
            "text/plain": [
              "  Province/State Country/Region       Lat  ...  11/23/21  11/24/21  11/25/21\n",
              "0            NaN    Afghanistan  33.93911  ...    157015    157032    157144\n",
              "1            NaN        Albania  41.15330  ...    197167    197776    198292\n",
              "2            NaN        Algeria  28.03390  ...    209283    209463    209624\n",
              "3            NaN        Andorra  42.50630  ...     16342     16426     16566\n",
              "4            NaN         Angola -11.20270  ...     65061     65080     65105\n",
              "\n",
              "[5 rows x 678 columns]"
            ]
          },
          "metadata": {},
          "execution_count": 2
        }
      ],
      "source": [
        "# dtf = pd.read_csv(\"https://raw.githubusercontent.com/CSSEGISandData/COVID-19/master/csse_covid_19_data/csse_covid_19_time_series/time_series_covid19_confirmed_global.csv\", sep=\",\")\n",
        "dtf = pd.read_csv(\"time_series_covid19_confirmed_global.csv\", sep=\",\")\n",
        "dtf.head()"
      ]
    },
    {
      "cell_type": "code",
      "execution_count": 3,
      "metadata": {
        "id": "35chBQQksPV8"
      },
      "outputs": [],
      "source": [
        "## group by country, sum and transpose\n",
        "dtf = dtf.drop(['Province/State','Lat','Long'], axis=1).groupby('Country/Region').sum().T\n",
        "\n",
        "## convert index to datetime\n",
        "dtf.index = pd.to_datetime(dtf.index, infer_datetime_format=True)\n",
        "## create total cases column\n",
        "dtf = pd.DataFrame(index=dtf.index, data=dtf['Iran'].values, columns=['total'])\n",
        "## create new cases column\n",
        "dtf['new'] = dtf['total'] - dtf['total'].shift(1)\n",
        "dtf['new'] = dtf['new'].fillna(method='bfill')\n",
        "dtf = dtf[(dtf.T != 0).any()]"
      ]
    },
    {
      "cell_type": "code",
      "source": [
        "dtf2 =dtf.copy()\n",
        "dtf3 =dtf.copy()"
      ],
      "metadata": {
        "id": "tb7gGa4d4Efw"
      },
      "execution_count": 4,
      "outputs": []
    },
    {
      "cell_type": "code",
      "execution_count": 5,
      "metadata": {
        "id": "Hz1wQ_A-sPV8"
      },
      "outputs": [],
      "source": [
        "dtf['SMA'] = dtf['new'].rolling(window=15).mean().round(0)\n",
        "dtf.replace([np.inf, -np.inf], np.nan, inplace=True)\n",
        "# Drop rows with NaN\n",
        "dtf.dropna(inplace=True)"
      ]
    },
    {
      "cell_type": "code",
      "execution_count": 6,
      "metadata": {
        "id": "mxvEkMiUsPV8",
        "colab": {
          "base_uri": "https://localhost:8080/",
          "height": 305
        },
        "outputId": "c1506cb3-abfe-4994-db4d-4728f793ad32"
      },
      "outputs": [
        {
          "output_type": "stream",
          "name": "stdout",
          "text": [
            "[ 35 155 275 415 532]\n",
            "[ 61 186 307 472]\n"
          ]
        },
        {
          "output_type": "display_data",
          "data": {
            "image/png": "[encoded data removed]",
            "text/plain": [
              "<Figure size 432x288 with 1 Axes>"
            ]
          },
          "metadata": {
            "needs_background": "light"
          }
        }
      ],
      "source": [
        "from scipy.signal import find_peaks\n",
        "dtf_neg = dtf * -1\n",
        "peaks, _ = find_peaks(dtf['SMA'].to_numpy(), distance=100, width=15)\n",
        "print(peaks)\n",
        "valleys, _ = find_peaks(dtf_neg['SMA'].to_numpy(), distance=30, width=20)\n",
        "print(valleys)\n",
        "plt.bar(dtf['SMA'].index, dtf['SMA'].to_numpy(), color=\"black\")\n",
        "plt.plot(dtf['SMA'].iloc[peaks].index, dtf['SMA'].iloc[peaks].to_numpy(), \"x\", color=\"red\")\n",
        "plt.plot(dtf['SMA'].iloc[valleys].index, dtf['SMA'].iloc[valleys].to_numpy(), \"x\", color=\"cyan\")\n",
        "plt.show()"
      ]
    },
    {
      "cell_type": "markdown",
      "source": [
        "# 1st Surge"
      ],
      "metadata": {
        "id": "Oq_ADyu2RtV0"
      }
    },
    {
      "cell_type": "code",
      "execution_count": 7,
      "metadata": {
        "id": "lYds3KsosPV8",
        "outputId": "4100d0d2-2cae-45d3-9207-cc6a230f4c7e",
        "colab": {
          "base_uri": "https://localhost:8080/",
          "height": 303
        }
      },
      "outputs": [
        {
          "output_type": "stream",
          "name": "stdout",
          "text": [
            "61\n"
          ]
        },
        {
          "output_type": "execute_result",
          "data": {
            "text/plain": [
              "<BarContainer object of 61 artists>"
            ]
          },
          "metadata": {},
          "execution_count": 7
        },
        {
          "output_type": "display_data",
          "data": {
            "image/png": "[encoded data removed]",
            "text/plain": [
              "<Figure size 432x288 with 1 Axes>"
            ]
          },
          "metadata": {
            "needs_background": "light"
          }
        }
      ],
      "source": [
        "dtf['SMA'] = dtf['SMA'].astype(int)\n",
        "\n",
        "counts1 = dtf['SMA'].iloc[:valleys[0]].to_numpy().tolist()\n",
        "num_days = len(counts1)\n",
        "print(num_days)\n",
        "surge1 = np.repeat(np.arange(len(counts1)), counts1)\n",
        "xk = np.arange(num_days)\n",
        "plt.bar(xk, counts1, color=\"black\")"
      ]
    },
    {
      "cell_type": "code",
      "execution_count": 10,
      "metadata": {
        "scrolled": true,
        "id": "ZM0pjpOWsPV8",
        "colab": {
          "base_uri": "https://localhost:8080/",
          "height": 303
        },
        "outputId": "a82a1f36-2a5c-420a-e93f-0483e9a4a025"
      },
      "outputs": [
        {
          "output_type": "stream",
          "name": "stdout",
          "text": [
            "n = 61\n",
            "[61.          0.5594283   0.26523495]\n"
          ]
        },
        {
          "output_type": "display_data",
          "data": {
            "image/png": "[encoded data removed]",
            "text/plain": [
              "<Figure size 432x288 with 1 Axes>"
            ]
          },
          "metadata": {
            "needs_background": "light"
          }
        }
      ],
      "source": [
        "import numpy as np\n",
        "from scipy import special\n",
        "from scipy.special import entr, logsumexp, betaln, gammaln as gamln\n",
        "from scipy.optimize import brute, differential_evolution\n",
        "import matplotlib.pyplot as plt\n",
        "import warnings\n",
        "from scipy.stats import rv_discrete\n",
        "import math\n",
        "\n",
        "class polya_gen(rv_discrete):\n",
        "    \"Polya + c distribution\"\n",
        "    def _argcheck(self, n, p, gamma):\n",
        "        return (p >= 0) & (p <= 1) & (gamma >= 0)\n",
        "    \n",
        "    def _logpmf(self, x, n, p, gamma):\n",
        "        k = np.floor(x)\n",
        "        combiln1 = gamln(p/gamma + k - 1 + 1) - gamln(k + 1) - gamln(p/gamma - 1 + 1)\n",
        "        combiln2 = gamln((1-p)/gamma + n - k - 1 + 1) - gamln(n - k + 1) - gamln((1-p)/gamma - 1 + 1)\n",
        "        combiln3 = gamln(1/gamma + n - 1 + 1) - gamln(n + 1) - gamln(1/gamma - 1 + 1)\n",
        "        return combiln1 + combiln2 - combiln3\n",
        "    \n",
        "    def _pmf(self, x, n, p, gamma):\n",
        "        return np.exp(self._logpmf(x, n, p, gamma))\n",
        "\n",
        "\n",
        "def loss(free_params, *args):\n",
        "    dist, x = args\n",
        "    # negative log-likelihood function\n",
        "    ll = -np.log(dist.pmf(x, *free_params)).sum()\n",
        "    if np.isnan(ll):  # occurs when x is outside of support\n",
        "        ll = np.inf   # we don't want that\n",
        "    return ll\n",
        "\n",
        "def fit_discrete(dist, x, bounds, optimizer=brute):\n",
        "    with warnings.catch_warnings(): \n",
        "        warnings.simplefilter(\"ignore\")  \n",
        "        return optimizer(loss, bounds, args=(dist, x), workers=8)\n",
        "\n",
        "polya = polya_gen(name=\"polya\")\n",
        "bounds = [(num_days, num_days), (0, 1), (0, 10)]\n",
        "res = fit_discrete(polya, surge1, bounds, optimizer=differential_evolution)\n",
        "print('n = '+str(num_days))\n",
        "print(res.x)\n",
        "\n",
        "xk = np.arange(num_days)\n",
        "#plt.bar(xk, counts1, color=\"black\")\n",
        "fig, ax = plt.subplots(1, 1)\n",
        "ax.plot(xk, polya.pmf(xk, *res.x), 'ro', ms=12, mec='r')\n",
        "ax.vlines(xk, 0, polya.pmf(xk, *res.x), colors='r', lw=4)\n",
        "plt.show()"
      ]
    },
    {
      "cell_type": "code",
      "execution_count": null,
      "metadata": {
        "id": "XoluYoyjsPV8",
        "colab": {
          "base_uri": "https://localhost:8080/"
        },
        "outputId": "19a7556a-c7a2-40ad-9817-8814c3634299"
      },
      "outputs": [
        {
          "output_type": "stream",
          "name": "stdout",
          "text": [
            "n = 61\n",
            "[88.56715461 84.11608952 57.97724038]\n"
          ]
        }
      ],
      "source": [
        "class polya_gen_abc(rv_discrete):\n",
        "    \"Polya + c distribution\"\n",
        "    def _argcheck(self, n, a, b, c):\n",
        "        return (a >= 1) & (b >= 1) & (c >= 1)\n",
        "    \n",
        "    def _logpmf(self, x, n, a, b, c):\n",
        "        k = np.floor(x)\n",
        "        combiln1 = gamln(a/c + k - 1 + 1) - gamln(k + 1) - gamln(a/c - 1 + 1)\n",
        "        combiln2 = gamln(b/c + n - k - 1 + 1) - gamln(n - k + 1) - gamln(b/c - 1 + 1)\n",
        "        combiln3 = gamln((a+b)/c + n - 1 + 1) - gamln(n + 1) - gamln((a+b)/c - 1 + 1)\n",
        "        return combiln1 + combiln2 - combiln3\n",
        "    \n",
        "    def _pmf(self, x, n, a, b, c):\n",
        "        return np.exp(self._logpmf(x, n, a, b, c))\n",
        "\n",
        "\n",
        "def func(free_params, *args):\n",
        "    dist, x = args\n",
        "    # negative log-likelihood function\n",
        "    ll = -np.log(dist.pmf(x, *free_params)).sum()\n",
        "    if np.isnan(ll):  # occurs when x is outside of support\n",
        "        ll = np.inf   # we don't want that\n",
        "    return ll\n",
        "\n",
        "def fit_discrete(dist, x, bounds, optimizer=brute):\n",
        "    with warnings.catch_warnings(): \n",
        "        warnings.simplefilter(\"ignore\")  \n",
        "        return optimizer(func, bounds, args=(dist, x))\n",
        "\n",
        "polya_abc = polya_gen_abc(name=\"polya\")\n",
        "bounds_abc = [(num_days, num_days), (0, 5000), (0, 5000), (1,50)]\n",
        "res = fit_discrete(polya_abc, surge1, bounds_abc, optimizer=differential_evolution)\n",
        "print('n = '+str(num_days))\n",
        "print(res.x)"
      ]
    },
    {
      "cell_type": "code",
      "execution_count": null,
      "metadata": {
        "id": "y1QpxvLJsPV8",
        "colab": {
          "base_uri": "https://localhost:8080/",
          "height": 265
        },
        "outputId": "6f7f98da-6c3a-4407-bc8b-1c745ee2e337"
      },
      "outputs": [
        {
          "output_type": "display_data",
          "data": {
            "image/png": "[encoded data removed]",
            "text/plain": [
              "<Figure size 432x288 with 1 Axes>"
            ]
          },
          "metadata": {
            "needs_background": "light"
          }
        }
      ],
      "source": [
        "xk = np.arange(num_days)\n",
        "#plt.bar(xk, counts1, color=\"black\")\n",
        "fig, ax = plt.subplots(1, 1)\n",
        "ax.plot(xk, polya.pmf(xk, *res.x), 'ro', ms=12, mec='r')\n",
        "ax.vlines(xk, 0, polya.pmf(xk, *res.x), colors='r', lw=4)\n",
        "plt.show()"
      ]
    },
    {
      "cell_type": "markdown",
      "source": [
        "# 2nd Surge"
      ],
      "metadata": {
        "id": "MBVz1-736Gpc"
      }
    },
    {
      "cell_type": "code",
      "source": [
        "counts2 = dtf['SMA'].iloc[valleys[0]:valleys[1]].to_numpy().tolist()\n",
        "num_days = len(counts2)\n",
        "print(num_days)\n",
        "xk = np.arange(num_days)\n",
        "surge2 = np.repeat(np.arange(len(counts2)), counts2)\n",
        "plt.bar(xk, counts2, color=\"black\")"
      ],
      "metadata": {
        "colab": {
          "base_uri": "https://localhost:8080/",
          "height": 303
        },
        "id": "WS8LlQf_6HTo",
        "outputId": "212dc8e7-1474-412b-f51f-963e968fcaf8"
      },
      "execution_count": 11,
      "outputs": [
        {
          "output_type": "stream",
          "name": "stdout",
          "text": [
            "125\n"
          ]
        },
        {
          "output_type": "execute_result",
          "data": {
            "text/plain": [
              "<BarContainer object of 125 artists>"
            ]
          },
          "metadata": {},
          "execution_count": 11
        },
        {
          "output_type": "display_data",
          "data": {
            "image/png": "[encoded data removed]",
            "text/plain": [
              "<Figure size 432x288 with 1 Axes>"
            ]
          },
          "metadata": {
            "needs_background": "light"
          }
        }
      ]
    },
    {
      "cell_type": "code",
      "source": [
        "bounds = [(num_days, num_days), (0, 1), (0, 10)]\n",
        "res = fit_discrete(polya, surge2, bounds, optimizer=differential_evolution)\n",
        "print('n = '+str(num_days))\n",
        "print(res.x)\n",
        "\n",
        "xk = np.arange(num_days)\n",
        "#plt.bar(xk, counts1, color=\"black\")\n",
        "fig, ax = plt.subplots(1, 1)\n",
        "ax.plot(xk, polya.pmf(xk, *res.x), 'ro', ms=12, mec='r')\n",
        "ax.vlines(xk, 0, polya.pmf(xk, *res.x), colors='r', lw=4)\n",
        "plt.show()"
      ],
      "metadata": {
        "colab": {
          "base_uri": "https://localhost:8080/",
          "height": 303
        },
        "id": "IfmwNUlLSDYw",
        "outputId": "555cfb1e-393d-43c6-fba8-252dbe0cf629"
      },
      "execution_count": 12,
      "outputs": [
        {
          "output_type": "stream",
          "name": "stdout",
          "text": [
            "n = 125\n",
            "[125.           0.52686935   0.40126907]\n"
          ]
        },
        {
          "output_type": "display_data",
          "data": {
            "image/png": "[encoded data removed]",
            "text/plain": [
              "<Figure size 432x288 with 1 Axes>"
            ]
          },
          "metadata": {
            "needs_background": "light"
          }
        }
      ]
    },
    {
      "cell_type": "markdown",
      "source": [
        "# 3rd Surge"
      ],
      "metadata": {
        "id": "WeOpRhcwS2qA"
      }
    },
    {
      "cell_type": "code",
      "source": [
        "counts3 = dtf['SMA'].iloc[valleys[1]:valleys[2]].to_numpy().tolist()\n",
        "num_days = len(counts3)\n",
        "print(num_days)\n",
        "xk = np.arange(num_days)\n",
        "surge3 = np.repeat(np.arange(len(counts3)), counts3)\n",
        "plt.bar(xk, counts3, color=\"black\")"
      ],
      "metadata": {
        "colab": {
          "base_uri": "https://localhost:8080/",
          "height": 305
        },
        "id": "L1CoH84BS6GU",
        "outputId": "0122c869-b082-4486-bd07-364fd2648cdb"
      },
      "execution_count": 13,
      "outputs": [
        {
          "output_type": "stream",
          "name": "stdout",
          "text": [
            "121\n"
          ]
        },
        {
          "output_type": "execute_result",
          "data": {
            "text/plain": [
              "<BarContainer object of 121 artists>"
            ]
          },
          "metadata": {},
          "execution_count": 13
        },
        {
          "output_type": "display_data",
          "data": {
            "image/png": "[encoded data removed]",
            "text/plain": [
              "<Figure size 432x288 with 1 Axes>"
            ]
          },
          "metadata": {
            "needs_background": "light"
          }
        }
      ]
    },
    {
      "cell_type": "code",
      "source": [
        "bounds = [(num_days, num_days), (0, 1), (0, 10)]\n",
        "res = fit_discrete(polya, surge3, bounds, optimizer=differential_evolution)\n",
        "print('n = '+str(num_days))\n",
        "print(res.x)\n",
        "\n",
        "xk = np.arange(num_days)\n",
        "#plt.bar(xk, counts1, color=\"black\")\n",
        "fig, ax = plt.subplots(1, 1)\n",
        "ax.plot(xk, polya.pmf(xk, *res.x), 'ro', ms=12, mec='r')\n",
        "ax.vlines(xk, 0, polya.pmf(xk, *res.x), colors='r', lw=4)\n",
        "plt.show()"
      ],
      "metadata": {
        "colab": {
          "base_uri": "https://localhost:8080/",
          "height": 303
        },
        "id": "xIgTEyyfTexM",
        "outputId": "ce3e306b-3ef8-46c3-f9bb-24faefef3f8a"
      },
      "execution_count": 14,
      "outputs": [
        {
          "output_type": "stream",
          "name": "stdout",
          "text": [
            "n = 121\n",
            "[121.           0.60396697   0.30474821]\n"
          ]
        },
        {
          "output_type": "display_data",
          "data": {
            "image/png": "[encoded data removed]",
            "text/plain": [
              "<Figure size 432x288 with 1 Axes>"
            ]
          },
          "metadata": {
            "needs_background": "light"
          }
        }
      ]
    },
    {
      "cell_type": "markdown",
      "source": [
        "# 4th Surge"
      ],
      "metadata": {
        "id": "WYUy869uUH6A"
      }
    },
    {
      "cell_type": "code",
      "source": [
        "counts4 = dtf['SMA'].iloc[valleys[2]:valleys[3]].to_numpy().tolist()\n",
        "num_days = len(counts4)\n",
        "print(num_days)\n",
        "xk = np.arange(num_days)\n",
        "surge4 = np.repeat(np.arange(len(counts4)), counts4)\n",
        "plt.bar(xk, counts4, color=\"black\")"
      ],
      "metadata": {
        "colab": {
          "base_uri": "https://localhost:8080/",
          "height": 303
        },
        "id": "DYAOhH_fUHvE",
        "outputId": "0e7033b7-22ce-4d92-c769-99635829d446"
      },
      "execution_count": 15,
      "outputs": [
        {
          "output_type": "stream",
          "name": "stdout",
          "text": [
            "165\n"
          ]
        },
        {
          "output_type": "execute_result",
          "data": {
            "text/plain": [
              "<BarContainer object of 165 artists>"
            ]
          },
          "metadata": {},
          "execution_count": 15
        },
        {
          "output_type": "display_data",
          "data": {
            "image/png": "[encoded data removed]",
            "text/plain": [
              "<Figure size 432x288 with 1 Axes>"
            ]
          },
          "metadata": {
            "needs_background": "light"
          }
        }
      ]
    },
    {
      "cell_type": "code",
      "source": [
        "bounds = [(num_days, num_days), (0, 1), (0, 10)]\n",
        "res = fit_discrete(polya, surge4, bounds, optimizer=differential_evolution)\n",
        "print('n = '+str(num_days))\n",
        "print(res.x)\n",
        "\n",
        "xk = np.arange(num_days)\n",
        "#plt.bar(xk, counts1, color=\"black\")\n",
        "fig, ax = plt.subplots(1, 1)\n",
        "ax.plot(xk, polya.pmf(xk, *res.x), 'ro', ms=12, mec='r')\n",
        "ax.vlines(xk, 0, polya.pmf(xk, *res.x), colors='r', lw=4)\n",
        "plt.show()"
      ],
      "metadata": {
        "colab": {
          "base_uri": "https://localhost:8080/",
          "height": 303
        },
        "id": "9WOvr4AXUzaY",
        "outputId": "9cdd0207-b9c3-4dc1-f610-cc1074f5d53c"
      },
      "execution_count": 16,
      "outputs": [
        {
          "output_type": "stream",
          "name": "stdout",
          "text": [
            "n = 165\n",
            "[165.           0.55731599   0.36390371]\n"
          ]
        },
        {
          "output_type": "display_data",
          "data": {
            "image/png": "[encoded data removed]",
            "text/plain": [
              "<Figure size 432x288 with 1 Axes>"
            ]
          },
          "metadata": {
            "needs_background": "light"
          }
        }
      ]
    },
    {
      "cell_type": "markdown",
      "source": [
        "# 5th Surge"
      ],
      "metadata": {
        "id": "TCqVG4ABVDVI"
      }
    },
    {
      "cell_type": "code",
      "source": [
        "counts5 = dtf['SMA'].iloc[valleys[3]:].to_numpy().tolist()\n",
        "num_days = len(counts5)\n",
        "print(num_days)\n",
        "xk = np.arange(num_days)\n",
        "surge5 = np.repeat(np.arange(len(counts5)), counts5)\n",
        "plt.bar(xk, counts5, color=\"black\")"
      ],
      "metadata": {
        "colab": {
          "base_uri": "https://localhost:8080/",
          "height": 305
        },
        "id": "ANYxF2FmVGI0",
        "outputId": "9de38731-a1ed-413b-d604-acd59930761b"
      },
      "execution_count": 17,
      "outputs": [
        {
          "output_type": "stream",
          "name": "stdout",
          "text": [
            "160\n"
          ]
        },
        {
          "output_type": "execute_result",
          "data": {
            "text/plain": [
              "<BarContainer object of 160 artists>"
            ]
          },
          "metadata": {},
          "execution_count": 17
        },
        {
          "output_type": "display_data",
          "data": {
            "image/png": "[encoded data removed]",
            "text/plain": [
              "<Figure size 432x288 with 1 Axes>"
            ]
          },
          "metadata": {
            "needs_background": "light"
          }
        }
      ]
    },
    {
      "cell_type": "code",
      "source": [
        "bounds = [(num_days, num_days), (0, 1), (0, 10)]\n",
        "res = fit_discrete(polya, surge5, bounds, optimizer=differential_evolution)\n",
        "print('n = '+str(num_days))\n",
        "print(res.x)\n",
        "\n",
        "xk = np.arange(num_days)\n",
        "#plt.bar(xk, counts1, color=\"black\")\n",
        "fig, ax = plt.subplots(1, 1)\n",
        "ax.plot(xk, polya.pmf(xk, *res.x), 'ro', ms=12, mec='r')\n",
        "ax.vlines(xk, 0, polya.pmf(xk, *res.x), colors='r', lw=4)\n",
        "plt.show()"
      ],
      "metadata": {
        "colab": {
          "base_uri": "https://localhost:8080/",
          "height": 303
        },
        "id": "zQHqRwqDVdpg",
        "outputId": "5f363e43-d6fa-43c0-cd9e-6757bfc40aad"
      },
      "execution_count": 18,
      "outputs": [
        {
          "output_type": "stream",
          "name": "stdout",
          "text": [
            "n = 160\n",
            "[160.           0.44622485   0.2516148 ]\n"
          ]
        },
        {
          "output_type": "display_data",
          "data": {
            "image/png": "[encoded data removed]",
            "text/plain": [
              "<Figure size 432x288 with 1 Axes>"
            ]
          },
          "metadata": {
            "needs_background": "light"
          }
        }
      ]
    }
  ],
  "metadata": {
    "kernelspec": {
      "display_name": "Python 3",
      "name": "python3"
    },
    "language_info": {
      "name": "python"
    },
    "colab": {
      "name": "Covid Polya +c distro.ipynb",
      "provenance": [],
      "include_colab_link": true
    }
  },
  "nbformat": 4,
  "nbformat_minor": 0
}